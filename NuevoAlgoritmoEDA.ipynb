{
 "cells": [
  {
   "cell_type": "code",
   "execution_count": 1,
   "id": "bd4ae729",
   "metadata": {},
   "outputs": [],
   "source": [
    "import numpy as np\n",
    "import matplotlib.pyplot as plt\n",
    "import pandas as pd"
   ]
  },
  {
   "cell_type": "code",
   "execution_count": 11,
   "id": "4950cbcc",
   "metadata": {},
   "outputs": [
    {
     "name": "stdout",
     "output_type": "stream",
     "text": [
      "DataFrame:       x          y\n",
      "0  -2.0 -177.00000\n",
      "1  -1.8 -124.54208\n",
      "2  -1.6  -85.42816\n",
      "3  -1.4  -56.81664\n",
      "4  -1.2  -36.32672\n",
      "5  -1.0  -22.00000\n",
      "6  -0.8  -12.26208\n",
      "7  -0.6   -5.88416\n",
      "8  -0.4   -1.94464\n",
      "9  -0.2    0.20928\n",
      "10  0.0    1.00000\n",
      "11  0.2    0.65792\n",
      "12  0.4   -0.74016\n",
      "13  0.6   -3.23264\n",
      "14  0.8   -6.93472\n",
      "15  1.0  -12.00000\n",
      "16  1.2  -18.58208\n",
      "17  1.4  -26.79616\n",
      "18  1.6  -36.68064\n",
      "19  1.8  -48.15872\n",
      "20  2.0  -61.00000\n"
     ]
    }
   ],
   "source": [
    "bd = pd.read_csv(\"data.csv\")\n",
    "print(\"DataFrame:\", bd)"
   ]
  },
  {
   "cell_type": "code",
   "execution_count": 3,
   "id": "3d5a5e63",
   "metadata": {},
   "outputs": [],
   "source": [
    "def ini_poblacion(tam_poblacion, num_ind, Imin, Imax):\n",
    "    poblacion = np.zeros((tam_poblacion, num_ind))\n",
    "    for i in range(tam_poblacion):\n",
    "        for j in range(num_ind):\n",
    "            poblacion[i][j] = np.random.uniform(Imin, Imax)\n",
    "    return poblacion"
   ]
  },
  {
   "cell_type": "code",
   "execution_count": 4,
   "id": "611d0ce8",
   "metadata": {},
   "outputs": [],
   "source": [
    "\n",
    "def evaluar(poblacion, x, y):\n",
    "    [r,c] = poblacion.shape \n",
    "    n = len(y)\n",
    "    evaluarciones = np.zeros((n,r))\n",
    "    fitness = np.zeros(r)\n",
    "    for i in range(r):\n",
    "        y_new = poblacion[i,0] + poblacion[i,1] * x + poblacion[i,2] * x**2 + poblacion[i,3] * x ** 3 + poblacion[i,4] * x ** 4 + poblacion[i,5] * x ** 5\n",
    "        y_new = np.array(y_new)\n",
    "        evaluarciones[:,i] = y_new\n",
    "        fitness[i] = np.linalg.norm(y - evaluarciones[:,i])\n",
    "    return fitness"
   ]
  },
  {
   "cell_type": "code",
   "execution_count": 5,
   "id": "4fed0fab",
   "metadata": {},
   "outputs": [],
   "source": [
    "def seleccion(Poblacion, fitness, ps):\n",
    "    [r, c] = Poblacion.shape \n",
    "    indices_ordenados = np.argsort(fitness)\n",
    "    tam_elite = int(r * ps)\n",
    "    poblacion_elite = np.zeros((tam_elite, c))\n",
    "    for i in range(tam_elite):\n",
    "        poblacion_elite[i,:] = Poblacion[indices_ordenados[i],:]\n",
    "    \n",
    "    return poblacion_elite"
   ]
  },
  {
   "cell_type": "code",
   "execution_count": 6,
   "id": "3fbfc0d5",
   "metadata": {},
   "outputs": [],
   "source": [
    "def estimacion_distribucion(poblacion_elite):\n",
    "    dim = poblacion_elite.shape[1]\n",
    "    media = np.zeros(dim)\n",
    "    stds = np.zeros(dim)\n",
    "\n",
    "    for i in range(dim):\n",
    "        media[i] = np.mean(poblacion_elite[:, i])\n",
    "        stds[i] = np.std(poblacion_elite[:,i])\n",
    "\n",
    "    return media, stds"
   ]
  },
  {
   "cell_type": "code",
   "execution_count": 7,
   "id": "70e0455d",
   "metadata": {},
   "outputs": [],
   "source": [
    "def generar_nueva_poblacion(tam_pob, media, stds): \n",
    "    dim = len(media)\n",
    "    nueva_pob = np.zeros((tam_pob, dim))\n",
    "    for i in range(tam_pob):\n",
    "        for j in range(dim):\n",
    "            nueva_pob[i,j] = np.random.normal(media[j], stds[j])\n",
    "\n",
    "    return nueva_pob"
   ]
  },
  {
   "cell_type": "code",
   "execution_count": 8,
   "id": "6f269e64",
   "metadata": {},
   "outputs": [],
   "source": [
    "# Funcion para calcular la media y la stds\n",
    "def BUMDA_media_stds(Pobla_elite, g, Imin, Imax, beta=1.0):\n",
    "    [m, d] = Pobla_elite.shape\n",
    "    z = m / ((Imax - Imin) * np.sum(np.exp(beta*g)))\n",
    "\n",
    "    mu = np.zeros(d)\n",
    "    sigma = np.zeros(d)\n",
    "    for j in range(d):\n",
    "        xj = Pobla_elite[:, j]\n",
    "        # Media\n",
    "        mu_term1 = (1 / (z * beta)) * np.sum(np.exp(beta * g) * xj)\n",
    "        denom_mu = (m / ((Imax - Imin) * beta) ) + np.sum(g)\n",
    "        mu_term2 = np.sum(g * xj) / denom_mu\n",
    "        mu[j] = mu_term1 + mu_term2\n",
    "\n",
    "        # Varianza\n",
    "        var_term1 = (1 /( z * beta)) * np.sum(np.exp(beta * g) * (xj - mu[j])** 2)\n",
    "        var_term2 = np.sum(g * (xj -mu[j]) ** 2) / np.sum(g)\n",
    "        varianza = var_term1 + var_term2\n",
    "        sigma[j] = np.sqrt(varianza)\n",
    "\n",
    "\n",
    "    return mu, sigma"
   ]
  },
  {
   "cell_type": "code",
   "execution_count": null,
   "id": "b1b6ee50",
   "metadata": {},
   "outputs": [
    {
     "name": "stderr",
     "output_type": "stream",
     "text": [
      "C:\\Users\\LUIS PC\\AppData\\Local\\Temp\\ipykernel_9020\\2162471741.py:17: RuntimeWarning: overflow encountered in scalar multiply\n",
      "  var_term1 = (1 /( z * beta)) * np.sum(np.exp(beta * g) * (xj - mu[j])** 2)\n",
      "C:\\Users\\LUIS PC\\AppData\\Local\\Temp\\ipykernel_9020\\2162471741.py:17: RuntimeWarning: overflow encountered in square\n",
      "  var_term1 = (1 /( z * beta)) * np.sum(np.exp(beta * g) * (xj - mu[j])** 2)\n",
      "C:\\Users\\LUIS PC\\AppData\\Local\\Temp\\ipykernel_9020\\2162471741.py:18: RuntimeWarning: overflow encountered in square\n",
      "  var_term2 = np.sum(g * (xj -mu[j]) ** 2) / np.sum(g)\n",
      "c:\\IBERO\\A5QuintoSemestre\\Complete Data Science\\venv\\Lib\\site-packages\\numpy\\_core\\fromnumeric.py:86: RuntimeWarning: invalid value encountered in reduce\n",
      "  return ufunc.reduce(obj, axis, dtype, out, **passkwargs)\n",
      "c:\\IBERO\\A5QuintoSemestre\\Complete Data Science\\venv\\Lib\\site-packages\\numpy\\_core\\fromnumeric.py:86: RuntimeWarning: overflow encountered in reduce\n",
      "  return ufunc.reduce(obj, axis, dtype, out, **passkwargs)\n"
     ]
    },
    {
     "name": "stdout",
     "output_type": "stream",
     "text": [
      "El mejor cromosoma es: [-914066.79248715  -30741.62240605  -14181.04072985 -531539.44027407\n",
      " -722329.09005879 1668774.30218387]\n"
     ]
    },
    {
     "data": {
      "image/png": "[encoded data removed]",
      "text/plain": [
       "<Figure size 640x480 with 1 Axes>"
      ]
     },
     "metadata": {},
     "output_type": "display_data"
    }
   ],
   "source": [
    "x = bd[\"x\"]\n",
    "y = bd[\"y\"]\n",
    "tam_poblacion = 100\n",
    "num_ind = 6\n",
    "generaciones = 100\n",
    "Imin = -10\n",
    "Imax = 10\n",
    "ps = 0.5\n",
    "\n",
    "\n",
    "P = ini_poblacion(tam_poblacion, num_ind, Imin, Imax)\n",
    "mejor_solucion = None\n",
    "mejor_fitness = float('inf')\n",
    "\n",
    "for k in range(generaciones):\n",
    "  fitness = evaluar(P, x, y)\n",
    "  P_elite = seleccion(P, fitness, ps)\n",
    "  # Es el vector de solo los valores negativos de fitness\n",
    "  \n",
    "  #media, stds = estimacion_distribucion(P_elite)\n",
    "  media, stds = BUMDA_media_stds(P_elite, g, Imin, Imax)\n",
    "  nueva_poblacion = generar_nueva_poblacion(tam_poblacion, media, stds)\n",
    "  P = nueva_poblacion.copy()\n",
    "  actual_mejor_fitness = min(fitness)\n",
    "  actual_mejor_solucion = P[np.argmin(fitness)]\n",
    "  if actual_mejor_fitness < mejor_fitness:\n",
    "    mejor_fitness = actual_mejor_fitness\n",
    "    mejor_solucion = actual_mejor_solucion\n",
    "\n",
    "print(f'El mejor cromosoma es: {mejor_solucion}')\n",
    "mejor_y = mejor_solucion[0] + mejor_solucion[1] * x + mejor_solucion[2] * x ** 2 + mejor_solucion[3] * x ** 3 + mejor_solucion[4] * x ** 4 + mejor_solucion[5] * x ** 5\n",
    "plt.plot(x, y, 'ro')\n",
    "plt.plot(x, mejor_y, 'b-')\n",
    "plt.grid()\n",
    "plt.show()"
   ]
  },
  {
   "cell_type": "code",
   "execution_count": null,
   "id": "0a23db1f",
   "metadata": {},
   "outputs": [],
   "source": []
  }
 ],
 "metadata": {
  "kernelspec": {
   "display_name": "Python 3",
   "language": "python",
   "name": "python3"
  },
  "language_info": {
   "codemirror_mode": {
    "name": "ipython",
    "version": 3
   },
   "file_extension": ".py",
   "mimetype": "text/x-python",
   "name": "python",
   "nbconvert_exporter": "python",
   "pygments_lexer": "ipython3",
   "version": "3.12.0"
  }
 },
 "nbformat": 4,
 "nbformat_minor": 5
}
