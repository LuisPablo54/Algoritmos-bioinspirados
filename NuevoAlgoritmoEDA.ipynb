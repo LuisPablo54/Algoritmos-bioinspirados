{
 "cells": [
  {
   "cell_type": "code",
   "execution_count": 10,
   "id": "bd4ae729",
   "metadata": {},
   "outputs": [],
   "source": [
    "import numpy as np\n",
    "import matplotlib.pyplot as plt\n",
    "import pandas as pd"
   ]
  },
  {
   "cell_type": "code",
   "execution_count": 11,
   "id": "4950cbcc",
   "metadata": {},
   "outputs": [],
   "source": [
    "bd = pd.read_csv(\"data.csv\")"
   ]
  },
  {
   "cell_type": "code",
   "execution_count": 12,
   "id": "3d5a5e63",
   "metadata": {},
   "outputs": [],
   "source": [
    "def ini_poblacion(tam_poblacion, num_ind, Imin, Imax):\n",
    "    poblacion = np.zeros((tam_poblacion, num_ind))\n",
    "    for i in range(tam_poblacion):\n",
    "        for j in range(num_ind):\n",
    "            poblacion[i][j] = np.random.uniform(Imin, Imax)\n",
    "    return poblacion"
   ]
  },
  {
   "cell_type": "code",
   "execution_count": 13,
   "id": "611d0ce8",
   "metadata": {},
   "outputs": [],
   "source": [
    "\n",
    "def evaluar(poblacion, x, y):\n",
    "    [r,c] = poblacion.shape \n",
    "    n = len(y)\n",
    "    evaluarciones = np.zeros((n,r))\n",
    "    fitness = np.zeros(r)\n",
    "    for i in range(r):\n",
    "        y_new = poblacion[i,0] + poblacion[i,1] * x + poblacion[i,2] * x**2 + poblacion[i,3] * x ** 3 + poblacion[i,4] * x ** 4 + poblacion[i,5] * x ** 5\n",
    "        y_new = np.array(y_new)\n",
    "        evaluarciones[:,i] = y_new\n",
    "        fitness[i] = np.linalg.norm(y - evaluarciones[:,i])\n",
    "    return fitness"
   ]
  },
  {
   "cell_type": "code",
   "execution_count": 14,
   "id": "4fed0fab",
   "metadata": {},
   "outputs": [],
   "source": [
    "def seleccion(Poblacion, fitness, ps):\n",
    "    [r, c] = Poblacion.shape \n",
    "    indices_ordenados = np.argsort(fitness)\n",
    "    tam_elite = int(r * ps)\n",
    "    poblacion_elite = np.zeros((tam_elite, c))\n",
    "    for i in range(tam_elite):\n",
    "        poblacion_elite[i,:] = Poblacion[indices_ordenados[i],:]\n",
    "    \n",
    "    return poblacion_elite"
   ]
  },
  {
   "cell_type": "code",
   "execution_count": 15,
   "id": "3fbfc0d5",
   "metadata": {},
   "outputs": [],
   "source": [
    "def estimacion_distribucion(poblacion_elite):\n",
    "    dim = poblacion_elite.shape[1]\n",
    "    media = np.zeros(dim)\n",
    "    stds = np.zeros(dim)\n",
    "\n",
    "    for i in range(dim):\n",
    "        media[i] = np.mean(poblacion_elite[:, i])\n",
    "        stds[i] = np.std(poblacion_elite[:,i])\n",
    "\n",
    "    return media, stds"
   ]
  },
  {
   "cell_type": "code",
   "execution_count": 16,
   "id": "70e0455d",
   "metadata": {},
   "outputs": [],
   "source": [
    "def generar_nueva_poblacion(tam_pob, media, stds): \n",
    "    dim = len(media)\n",
    "    nueva_pob = np.zeros((tam_pob, dim))\n",
    "    for i in range(tam_pob):\n",
    "        for j in range(dim):\n",
    "            nueva_pob[i,j] = np.random.normal(media[j], stds[j])\n",
    "\n",
    "    return nueva_pob"
   ]
  },
  {
   "cell_type": "code",
   "execution_count": 18,
   "id": "b1b6ee50",
   "metadata": {},
   "outputs": [
    {
     "name": "stdout",
     "output_type": "stream",
     "text": [
      "El mejor cromosoma es: [-3.0364091   6.35472367 -5.39707993 -2.49459727 -6.22610879  2.10722124]\n"
     ]
    },
    {
     "data": {
      "image/png": "[encoded data removed]",
      "text/plain": [
       "<Figure size 640x480 with 1 Axes>"
      ]
     },
     "metadata": {},
     "output_type": "display_data"
    }
   ],
   "source": [
    "x = bd[\"x\"]\n",
    "y = bd[\"y\"]\n",
    "tam_poblacion = 100\n",
    "num_ind = 6\n",
    "generaciones = 100\n",
    "Imin = -30\n",
    "Imax = 30\n",
    "ps = 0.5\n",
    "\n",
    "\n",
    "P = ini_poblacion(tam_poblacion, num_ind, Imin, Imax)\n",
    "mejor_solucion = None\n",
    "mejor_fitness = float('inf')\n",
    "\n",
    "for k in range(generaciones):\n",
    "  fitness = evaluar(P, x, y)\n",
    "  P_elite = seleccion(P, fitness, ps)\n",
    "  media, stds = estimacion_distribucion(P_elite)\n",
    "  nueva_poblacion = generar_nueva_poblacion(tam_poblacion, media, stds)\n",
    "  P = nueva_poblacion.copy()\n",
    "  actual_mejor_fitness = min(fitness)\n",
    "  actual_mejor_solucion = P[np.argmin(fitness)]\n",
    "  if actual_mejor_fitness < mejor_fitness:\n",
    "    mejor_fitness = actual_mejor_fitness\n",
    "    mejor_solucion = actual_mejor_solucion\n",
    "\n",
    "print(f'El mejor cromosoma es: {mejor_solucion}')\n",
    "mejor_y = mejor_solucion[0] + mejor_solucion[1] * x + mejor_solucion[2] * x ** 2 + mejor_solucion[3] * x ** 3 + mejor_solucion[4] * x ** 4 + mejor_solucion[5] * x ** 5\n",
    "plt.plot(x, y, 'ro')\n",
    "plt.plot(x, mejor_y, 'b-')\n",
    "plt.grid()\n",
    "plt.show()"
   ]
  },
  {
   "cell_type": "code",
   "execution_count": null,
   "id": "0a23db1f",
   "metadata": {},
   "outputs": [],
   "source": []
  }
 ],
 "metadata": {
  "kernelspec": {
   "display_name": "Python 3",
   "language": "python",
   "name": "python3"
  },
  "language_info": {
   "codemirror_mode": {
    "name": "ipython",
    "version": 3
   },
   "file_extension": ".py",
   "mimetype": "text/x-python",
   "name": "python",
   "nbconvert_exporter": "python",
   "pygments_lexer": "ipython3",
   "version": "3.12.0"
  }
 },
 "nbformat": 4,
 "nbformat_minor": 5
}
