{
 "cells": [
  {
   "cell_type": "code",
   "execution_count": 1,
   "id": "bd4ae729",
   "metadata": {},
   "outputs": [],
   "source": [
    "import numpy as np\n",
    "import matplotlib.pyplot as plt\n",
    "import pandas as pd"
   ]
  },
  {
   "cell_type": "code",
   "execution_count": 2,
   "id": "4950cbcc",
   "metadata": {},
   "outputs": [
    {
     "name": "stdout",
     "output_type": "stream",
     "text": [
      "DataFrame:       x          y\n",
      "0  -2.0 -177.00000\n",
      "1  -1.8 -124.54208\n",
      "2  -1.6  -85.42816\n",
      "3  -1.4  -56.81664\n",
      "4  -1.2  -36.32672\n",
      "5  -1.0  -22.00000\n",
      "6  -0.8  -12.26208\n",
      "7  -0.6   -5.88416\n",
      "8  -0.4   -1.94464\n",
      "9  -0.2    0.20928\n",
      "10  0.0    1.00000\n",
      "11  0.2    0.65792\n",
      "12  0.4   -0.74016\n",
      "13  0.6   -3.23264\n",
      "14  0.8   -6.93472\n",
      "15  1.0  -12.00000\n",
      "16  1.2  -18.58208\n",
      "17  1.4  -26.79616\n",
      "18  1.6  -36.68064\n",
      "19  1.8  -48.15872\n",
      "20  2.0  -61.00000\n"
     ]
    }
   ],
   "source": [
    "bd = pd.read_csv(\"data.csv\")\n",
    "print(\"DataFrame:\", bd)"
   ]
  },
  {
   "cell_type": "code",
   "execution_count": 3,
   "id": "3d5a5e63",
   "metadata": {},
   "outputs": [],
   "source": [
    "def ini_poblacion(tam_poblacion, num_ind, Imin, Imax):\n",
    "    poblacion = np.zeros((tam_poblacion, num_ind))\n",
    "    for i in range(tam_poblacion):\n",
    "        for j in range(num_ind):\n",
    "            poblacion[i][j] = np.random.uniform(Imin, Imax)\n",
    "    return poblacion"
   ]
  },
  {
   "cell_type": "code",
   "execution_count": 4,
   "id": "611d0ce8",
   "metadata": {},
   "outputs": [],
   "source": [
    "\n",
    "def evaluar(poblacion, x, y):\n",
    "    [r,c] = poblacion.shape \n",
    "    n = len(y)\n",
    "    evaluarciones = np.zeros((n,r))\n",
    "    fitness = np.zeros(r)\n",
    "    for i in range(r):\n",
    "        y_new = (poblacion[i,0] \n",
    "                 + poblacion[i,1] * x \n",
    "                 + poblacion[i,2] * x ** 2\n",
    "                 + poblacion[i,3] * x ** 3 \n",
    "                 + poblacion[i,4] * x ** 4 \n",
    "                 + poblacion[i,5] * x ** 5)\n",
    "        y_new = np.array(y_new, dtype=float)\n",
    "        evaluarciones[:,i] = y_new\n",
    "        fitness[i] = np.linalg.norm(y - evaluarciones[:,i])\n",
    "    return fitness"
   ]
  },
  {
   "cell_type": "code",
   "execution_count": 5,
   "id": "4fed0fab",
   "metadata": {},
   "outputs": [],
   "source": [
    "def seleccion(Poblacion, fitness, ps):\n",
    "    [r, c] = Poblacion.shape \n",
    "    indices_ordenados = np.argsort(fitness)\n",
    "    tam_elite = int(r * ps)\n",
    "    poblacion_elite = np.zeros((tam_elite, c))\n",
    "    for i in range(tam_elite):\n",
    "        poblacion_elite[i,:] = Poblacion[indices_ordenados[i],:]\n",
    "    \n",
    "    return poblacion_elite"
   ]
  },
  {
   "cell_type": "code",
   "execution_count": 6,
   "id": "3fbfc0d5",
   "metadata": {},
   "outputs": [],
   "source": [
    "def estimacion_distribucion(poblacion_elite):\n",
    "    dim = poblacion_elite.shape[1]\n",
    "    media = np.zeros(dim)\n",
    "    stds = np.zeros(dim)\n",
    "\n",
    "    for i in range(dim):\n",
    "        media[i] = np.mean(poblacion_elite[:, i])\n",
    "        stds[i] = np.std(poblacion_elite[:,i])\n",
    "\n",
    "    return media, stds"
   ]
  },
  {
   "cell_type": "code",
   "execution_count": 7,
   "id": "70e0455d",
   "metadata": {},
   "outputs": [],
   "source": [
    "def generar_nueva_poblacion(tam_pob, media, stds): \n",
    "    dim = len(media)\n",
    "    nueva_pob = np.zeros((tam_pob, dim))\n",
    "    for i in range(tam_pob):\n",
    "        for j in range(dim):\n",
    "            nueva_pob[i,j] = np.random.normal(media[j], stds[j])\n",
    "\n",
    "    return nueva_pob"
   ]
  },
  {
   "cell_type": "code",
   "execution_count": 12,
   "id": "6f269e64",
   "metadata": {},
   "outputs": [],
   "source": [
    "# Funcion para calcular la media y la stds\n",
    "def BUMDA_media_stds(pobla_elite, g, Imin, Imax, beta=1.0, eps=1e-8):\n",
    "    # pobla_elite: poblacion seleccionada (numpy array)\n",
    "    # g: lista de fitness correspondientes a pobla_elite\n",
    "    # Imin, Imax: limites del espacio de busqueda\n",
    "    # beta: parametro de Boltzmann (mayor beta => mayor seleccion)\n",
    "    # eps: valor pequeño para evitar division por cero\n",
    "    m, d = pobla_elite.shape\n",
    "\n",
    "    # transformar fitness en pesos Boltzmann \n",
    "    w = np.exp(-beta * np.array(g, dtype=float))\n",
    "    w_sum = np.sum(w)\n",
    "    if w_sum == 0:\n",
    "        w = np.ones_like(w) / len(w)\n",
    "    else:\n",
    "        w = w / w_sum\n",
    "\n",
    "    mu = np.zeros(d)\n",
    "    sigma = np.zeros(d)\n",
    "\n",
    "    for j in range(d):\n",
    "        xj = pobla_elite[:, j]\n",
    "        mu_j = np.sum(w * xj)               # media ponderada\n",
    "        var_j = np.sum(w * (xj - mu_j) ** 2)  # varianza ponderada\n",
    "        sigma_j = np.sqrt(max(var_j, eps))  # evita sigma 0\n",
    "\n",
    "        # Si sigma muy grande, recortar a rango razonable (basado en Imin,Imax)\n",
    "        max_sigma = (Imax - Imin) / 2.0\n",
    "        sigma_j = min(sigma_j, max_sigma)\n",
    "\n",
    "        mu[j] = mu_j\n",
    "        sigma[j] = sigma_j\n",
    "\n",
    "\n",
    "    return mu, sigma"
   ]
  },
  {
   "cell_type": "code",
   "execution_count": null,
   "id": "b1b6ee50",
   "metadata": {},
   "outputs": [
    {
     "name": "stdout",
     "output_type": "stream",
     "text": [
      "El mejor cromosoma es: [ 1.28427773  3.55950763 -9.11278918  7.89077711 -3.61878128 -0.5513755 ]\n"
     ]
    },
    {
     "data": {
      "image/png": "[encoded data removed]",
      "text/plain": [
       "<Figure size 640x480 with 1 Axes>"
      ]
     },
     "metadata": {},
     "output_type": "display_data"
    }
   ],
   "source": [
    "x = bd[\"x\"]\n",
    "y = bd[\"y\"]\n",
    "tam_poblacion = 100\n",
    "num_ind = 6\n",
    "generaciones = 100\n",
    "Imin = -10\n",
    "Imax = 10\n",
    "ps = 0.5\n",
    "\n",
    "\n",
    "P = ini_poblacion(tam_poblacion, num_ind, Imin, Imax)\n",
    "mejor_solucion = None\n",
    "mejor_fitness = float('inf')\n",
    "\n",
    "for k in range(generaciones):\n",
    "    # 1) Evalúa la población actual\n",
    "    fitness = evaluar(P, x, y)  # shape (tam_poblacion,)\n",
    "\n",
    "    # 2) Selección de élite (ps es proporción, por ejemplo 0.5)\n",
    "    num_elite = max(2, int(ps * tam_poblacion))\n",
    "    indices_elite = np.argsort(fitness)[:num_elite]\n",
    "    pobla_elite = P[indices_elite, :]\n",
    "\n",
    "    # 3) Calcula mu y sigma con BUMDA (boltzmann ponderado sobre fitness de la élite)\n",
    "    mu, sigma = BUMDA_media_stds(pobla_elite, fitness[indices_elite], Imin, Imax, beta=1.0)\n",
    "\n",
    "    # 4) Genera nueva población\n",
    "    P = generar_nueva_poblacion(tam_poblacion, mu, sigma)\n",
    "\n",
    "    idx_best = np.argmin(fitness)\n",
    "    if fitness[idx_best] < mejor_fitness:\n",
    "        mejor_fitness = fitness[idx_best]\n",
    "        mejor_solucion = P[idx_best].copy()  # copia para seguridad\n",
    "\n",
    "print(f'El mejor cromosoma es: {mejor_solucion}')\n",
    "mejor_y = mejor_solucion[0] + mejor_solucion[1] * x + mejor_solucion[2] * x ** 2 + mejor_solucion[3] * x ** 3 + mejor_solucion[4] * x ** 4 + mejor_solucion[5] * x ** 5\n",
    "x = np.asarray(x, dtype=float)\n",
    "y = np.asarray(y, dtype=float)\n",
    "mejor_y = np.asarray(mejor_y, dtype=float)\n",
    "\n",
    "# Ordena por x antes de trazar la línea\n",
    "idx = np.argsort(x)\n",
    "x_ord = x[idx]\n",
    "mejor_y_ord = mejor_y[idx]\n",
    "\n",
    "# Grafica: puntos (scatter) y luego la línea con x ordenado\n",
    "plt.scatter(bd[\"x\"], bd[\"y\"])                # puntos\n",
    "plt.plot(x_ord, mejor_y_ord)     # línea que ahora sigue x ascendente\n",
    "plt.grid()\n",
    "plt.show()"
   ]
  },
  {
   "cell_type": "code",
   "execution_count": null,
   "id": "c90dffc3",
   "metadata": {},
   "outputs": [],
   "source": []
  }
 ],
 "metadata": {
  "kernelspec": {
   "display_name": "Python 3",
   "language": "python",
   "name": "python3"
  },
  "language_info": {
   "codemirror_mode": {
    "name": "ipython",
    "version": 3
   },
   "file_extension": ".py",
   "mimetype": "text/x-python",
   "name": "python",
   "nbconvert_exporter": "python",
   "pygments_lexer": "ipython3",
   "version": "3.12.0"
  }
 },
 "nbformat": 4,
 "nbformat_minor": 5
}
