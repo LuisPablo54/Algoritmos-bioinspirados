{
 "cells": [
  {
   "cell_type": "code",
   "execution_count": 7,
   "id": "a382102a",
   "metadata": {},
   "outputs": [],
   "source": [
    "import numpy as py\n",
    "import matplotlib.pyplot as plt\n",
    "import pandas as pd\n",
    "import random\n",
    "import math "
   ]
  },
  {
   "cell_type": "code",
   "execution_count": 8,
   "id": "98decd9e",
   "metadata": {},
   "outputs": [
    {
     "name": "stdout",
     "output_type": "stream",
     "text": [
      "     x          y\n",
      "0 -2.0 -177.00000\n",
      "1 -1.8 -124.54208\n",
      "2 -1.6  -85.42816\n",
      "3 -1.4  -56.81664\n",
      "4 -1.2  -36.32672\n"
     ]
    }
   ],
   "source": [
    "datos = pd.read_csv('data_practica.csv')\n",
    "print(datos.head())\n",
    "\n",
    "x_pred = datos.iloc[:,0]\n",
    "y_real = datos.iloc[:,1]\n"
   ]
  },
  {
   "cell_type": "code",
   "execution_count": 9,
   "id": "914283ce",
   "metadata": {},
   "outputs": [],
   "source": [
    "# Función objetivo de 2 variables\n",
    "def funcion_objetivo(a, x):\n",
    "    f = a[0] + a[1] * x + a[2] * x**2 + a[3] * x**3 + a[4] * x**4 + a[5] * x**5\n",
    "    return f"
   ]
  },
  {
   "cell_type": "code",
   "execution_count": 10,
   "id": "ceeeeff9",
   "metadata": {},
   "outputs": [],
   "source": [
    "def iniciar_poblacion(tam_pob,Imin,Imax):\n",
    "    Poblacion = []\n",
    "    for i in range(tam_pob):\n",
    "        individuo = []\n",
    "        for j in range(6):\n",
    "            individuo.append(random.uniform(Imin,Imax))    \n",
    "        Poblacion.append(individuo)   \n",
    "    \n",
    "    return Poblacion "
   ]
  },
  {
   "cell_type": "code",
   "execution_count": 11,
   "id": "97373747",
   "metadata": {},
   "outputs": [],
   "source": [
    "def evaluar(population):\n",
    "    fitnes = []\n",
    "    n = len(x_pred)\n",
    "    for individuo in population:\n",
    "        error = 0\n",
    "        for i in range(n):\n",
    "            y_pred = funcion_objetivo(individuo, x_pred[i])\n",
    "            error += (y_real[i] - y_pred) ** 2\n",
    "        fitnes.append(error / n)\n",
    "    return fitnes\n"
   ]
  },
  {
   "cell_type": "code",
   "execution_count": 12,
   "id": "71b62d3b",
   "metadata": {},
   "outputs": [
    {
     "name": "stdout",
     "output_type": "stream",
     "text": [
      "Poblacion inicial:\n",
      "[([1.2704480167194299, 1.0063813320406396, -0.8065214021259646, 1.8198508252481114, 1.1271292179578905, -1.177926404415207], 4316.185590285922), ([-1.9251230729999045, 1.5883639181151596, 0.26197670888582403, -1.8171177049602578, 0.47299566310099816, -0.463399172659388], 4052.8535679507963), ([1.4531679084386977, -0.009635066470261133, 1.0482506331284682, 1.2303945213269731, -1.6611747705866535, -0.6613882697773081], 2710.5132582479455)]\n"
     ]
    }
   ],
   "source": [
    "# Prueba de fitness\n",
    "poblacion = iniciar_poblacion(3,-2,2)\n",
    "fitness = evaluar(poblacion)\n",
    "pob_Fit = list(zip(poblacion, fitness))\n",
    "print(\"Poblacion inicial:\")\n",
    "print(pob_Fit)\n",
    "    "
   ]
  },
  {
   "cell_type": "code",
   "execution_count": 13,
   "id": "f87ca9f1",
   "metadata": {},
   "outputs": [],
   "source": [
    "# Mutacion diferencial\n",
    "def mutacion_diferencial(population, F):\n",
    "    nueva_poblacion = []\n",
    "    tam_pob = len(population)\n",
    "    for i in range(tam_pob):\n",
    "        indices = list(range(tam_pob))\n",
    "        indices.remove(i)\n",
    "        a, b, c = random.sample(indices, 3)\n",
    "        individuo_mutado = []\n",
    "        for j in range(len(population[0])):\n",
    "            valor_mutado = population[a][j] + F * (population[b][j] - population[c][j])\n",
    "            individuo_mutado.append(valor_mutado)\n",
    "        nueva_poblacion.append(individuo_mutado)\n",
    "    return nueva_poblacion"
   ]
  },
  {
   "cell_type": "code",
   "execution_count": 14,
   "id": "f25f9fef",
   "metadata": {},
   "outputs": [],
   "source": [
    "# Cruce\n",
    "def cruce(population, mutated_population, CR):\n",
    "    nueva_poblacion = []\n",
    "    tam_pob = len(population)\n",
    "    for i in range(tam_pob):\n",
    "        individuo_cruzado = []\n",
    "        for j in range(len(population[0])):\n",
    "            if random.random() < CR:\n",
    "                individuo_cruzado.append(mutated_population[i][j])\n",
    "            else:\n",
    "                individuo_cruzado.append(population[i][j])\n",
    "        nueva_poblacion.append(individuo_cruzado)\n",
    "    return nueva_poblacion\n"
   ]
  },
  {
   "cell_type": "code",
   "execution_count": 15,
   "id": "dfbcd0ea",
   "metadata": {},
   "outputs": [],
   "source": [
    "# Seleccion\n",
    "def seleccion(population, trial_population):\n",
    "    nueva_poblacion = []\n",
    "    fit_original = evaluar(population)\n",
    "    fit_trial = evaluar(trial_population)\n",
    "    for i in range(len(population)):\n",
    "        if fit_trial[i] < fit_original[i]:\n",
    "            nueva_poblacion.append(trial_population[i])\n",
    "        else:\n",
    "            nueva_poblacion.append(population[i])\n",
    "    return nueva_poblacion\n"
   ]
  },
  {
   "cell_type": "code",
   "execution_count": 16,
   "id": "cd975b28",
   "metadata": {},
   "outputs": [
    {
     "name": "stdout",
     "output_type": "stream",
     "text": [
      "Generacion 0: Mejor fitness = 302.4946001830943\n",
      "Generacion 10: Mejor fitness = 47.11589841089606\n",
      "Generacion 20: Mejor fitness = 29.000764681753306\n",
      "Generacion 30: Mejor fitness = 21.189301913838115\n",
      "Generacion 40: Mejor fitness = 9.548962340603124\n",
      "Generacion 50: Mejor fitness = 2.8066334072605983\n",
      "Generacion 60: Mejor fitness = 2.4451767036643117\n",
      "Generacion 70: Mejor fitness = 2.115989909270618\n",
      "Generacion 80: Mejor fitness = 0.44377634916404657\n",
      "Generacion 90: Mejor fitness = 0.44377634916404657\n",
      "Mejor individuo final: [0.8869429455826152, 2.6013689776475006, -14.225174501156285, 1.5745949625812559, -3.97143623222831, 1.2398933556438998]\n"
     ]
    }
   ],
   "source": [
    "# Algoritmo de Evolución Diferencial\n",
    "tam_pob = 100\n",
    "Imin = -5.0\n",
    "Imax = 5.0\n",
    "F = 0.8\n",
    "CR = 0.9\n",
    "generaciones = 100\n",
    "\n",
    "poblacion = iniciar_poblacion(tam_pob, Imin, Imax)\n",
    "\n",
    "for gen in range(generaciones):\n",
    "    poblacion_mutada = mutacion_diferencial(poblacion, F)\n",
    "    poblacion_cruzada = cruce(poblacion, poblacion_mutada, CR)\n",
    "    poblacion = seleccion(poblacion, poblacion_cruzada)\n",
    "    mejor_fitness = min(evaluar(poblacion))\n",
    "    if gen % 10 == 0:\n",
    "        print(f\"Generacion {gen}: Mejor fitness = {mejor_fitness}\")\n",
    "\n",
    "# Resultados finales\n",
    "\n",
    "print(f\"Mejor individuo final: {poblacion[evaluar(poblacion).index(min(evaluar(poblacion)))]}\")\n"
   ]
  },
  {
   "cell_type": "code",
   "execution_count": 17,
   "id": "2aff3395",
   "metadata": {},
   "outputs": [
    {
     "data": {
      "image/png": "[encoded data removed]",
      "text/plain": [
       "<Figure size 640x480 with 1 Axes>"
      ]
     },
     "metadata": {},
     "output_type": "display_data"
    }
   ],
   "source": [
    "# Grafica los puntos con la ecuacion encontrada\n",
    "mejor_individuo = poblacion[evaluar(poblacion).index(min(evaluar(poblacion)))]\n",
    "y_pred_final = [funcion_objetivo(mejor_individuo, x) for x in x_pred]\n",
    "plt.scatter(x_pred, y_real, color='blue', label='Datos Reales')\n",
    "plt.plot(x_pred, y_pred_final, color='red', label='Ajuste por Evolución Diferencial')\n",
    "plt.xlabel('x')\n",
    "plt.ylabel('y')\n",
    "plt.title('Ajuste de Datos usando Evolución Diferencial')\n",
    "plt.legend()\n",
    "plt.show()"
   ]
  },
  {
   "cell_type": "code",
   "execution_count": null,
   "id": "fd4fad74",
   "metadata": {},
   "outputs": [],
   "source": []
  }
 ],
 "metadata": {
  "kernelspec": {
   "display_name": "ds_venv",
   "language": "python",
   "name": "python3"
  },
  "language_info": {
   "codemirror_mode": {
    "name": "ipython",
    "version": 3
   },
   "file_extension": ".py",
   "mimetype": "text/x-python",
   "name": "python",
   "nbconvert_exporter": "python",
   "pygments_lexer": "ipython3",
   "version": "3.12.0"
  }
 },
 "nbformat": 4,
 "nbformat_minor": 5
}
