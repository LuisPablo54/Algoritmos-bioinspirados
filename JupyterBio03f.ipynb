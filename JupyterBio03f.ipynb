{
 "cells": [
  {
   "cell_type": "code",
   "execution_count": 73,
   "id": "43fa9d8b",
   "metadata": {},
   "outputs": [],
   "source": [
    "# =============================================================================\n",
    "#  ECUACIÓN DE CALOR 1D CON ALGORITMO GENÉTICO (DEAP) - VERSIÓN CORREGIDA\n",
    "#  Integrantes: \n",
    "#   Luis Pablo López Iracheta \n",
    "#   Diego Mares Rodríguez\n",
    "#   Francisco Marín Castillo\n",
    "#  Fecha: 22 de oct de 2025\n",
    "#  \n",
    "#  du/dt - d2u/dx2 = 0\n",
    "#  u(0,t) = u(1,t) = 0\n",
    "#  u(x,0) = 1/5 sin(3πx)\n",
    "#  0 < t < inf , 0 < x < 1\n",
    "# =============================================================================\n",
    "\n",
    "# =============================================================================\n",
    "#  ECUACIÓN DE CALOR 1D CON ALGORITMO GENÉTICO - VERSIÓN MEJORADA\n",
    "# =============================================================================\n",
    "\n",
    "\n",
    "\n",
    "import operator, math, random\n",
    "import numpy as np\n",
    "import matplotlib.pyplot as plt\n",
    "from deap import base, creator, gp, tools, algorithms"
   ]
  },
  {
   "cell_type": "code",
   "execution_count": 74,
   "id": "e9b07364",
   "metadata": {},
   "outputs": [],
   "source": [
    "# Definimos los operadores primitivos\n",
    "pset = gp.PrimitiveSet(\"MAIN\", 2)  # Dos variables de entrada (u, t)\n",
    "# Renombramos los argumentos para mayor claridad\n",
    "pset.renameArguments(ARG0='x')  # Variable espacial (esta si es u o x) \n",
    "## Estás renombrando ARG0='u', pero ese argumento representa x, no u\n",
    "pset.renameArguments(ARG1='t')  # Variable tiempo\n",
    "\n",
    "# Agregamos operadores aritméticos básicos\n",
    "pset.addPrimitive(operator.add, 2)\n",
    "pset.addPrimitive(operator.sub, 2)\n",
    "pset.addPrimitive(operator.mul, 2)"
   ]
  },
  {
   "cell_type": "code",
   "execution_count": 75,
   "id": "071fb8c6",
   "metadata": {},
   "outputs": [],
   "source": [
    "def safe_div(a, b):\n",
    "    try:\n",
    "        return a / b if abs(b) > 1e-6 else 1.0\n",
    "    except:\n",
    "        return 1.0\n",
    "pset.addPrimitive(safe_div, 2)\n",
    "\n",
    "# Funciones matemáticas seguras\n",
    "def safe_sin(x): return math.sin(x)\n",
    "def safe_cos(x): return math.cos(x)\n",
    "def safe_exp(x):\n",
    "    try: return math.exp(x) if x < 10 else math.exp(10)\n",
    "    except: return 1.0\n",
    "def safe_log(x):\n",
    "    try: return math.log(abs(x)+1e-6)\n",
    "    except: return 0.0\n",
    "def safe_neg_exp(x):\n",
    "    try:\n",
    "        return math.exp(-abs(x)) if x > -20 else math.exp(20)\n",
    "    except OverflowError:\n",
    "        return 1.0"
   ]
  },
  {
   "cell_type": "code",
   "execution_count": 76,
   "id": "3b276ed2",
   "metadata": {},
   "outputs": [],
   "source": [
    "pset.addPrimitive(safe_neg_exp, 1)\n",
    "pset.addPrimitive(safe_sin, 1)\n",
    "pset.addPrimitive(safe_cos, 1)\n",
    "pset.addPrimitive(safe_exp, 1)\n",
    "pset.addPrimitive(safe_log, 1)\n",
    "\n",
    "# Constantes aleatorias\n",
    "pset.addEphemeralConstant(\"rand101\", lambda: random.uniform(-2, 2))\n",
    "\n",
    "# Creamos para minimizar la función\n",
    "try:\n",
    "    del creator.FitnessMin\n",
    "    del creator.Individuo\n",
    "except:\n",
    "    pass\n",
    "\n",
    "creator.create(\"FitnessMin\", base.Fitness, weights=(-1.0,)) # Minimizar la función a cero\n",
    "creator.create(\"Individuo\", gp.PrimitiveTree, fitness=creator.FitnessMin) # Individuo basado en árboles primitivos"
   ]
  },
  {
   "cell_type": "code",
   "execution_count": 77,
   "id": "85692102",
   "metadata": {},
   "outputs": [],
   "source": [
    "# Configuramos la caja de herramientas\n",
    "toolbox = base.Toolbox()\n",
    "toolbox.register(\"expr_init\", gp.genHalfAndHalf, pset=pset, min_=2, max_=4)  # Generador de expresiones\n",
    "toolbox.register(\"individuo\", tools.initIterate, creator.Individuo, toolbox.expr_init)  # Inicializador de individuos\n",
    "toolbox.register(\"population\", tools.initRepeat, list, toolbox.individuo)  # Inicializador de población\n",
    "toolbox.register(\"compile\", gp.compile, pset=pset)  # Compilador de árboles a funciones\n",
    "\n",
    "# Función objetivo: Evaluar el error en la ecuación del calor\n",
    "xs = np.linspace(0, 1, 10)  # Puntos en el espacio\n",
    "ts = np.linspace(0, 0.3, 10)  # Puntos en el tiempo, rango reducido para evitar inestabilidades numéricas"
   ]
  },
  {
   "cell_type": "code",
   "execution_count": null,
   "id": "5f7e4321",
   "metadata": {},
   "outputs": [],
   "source": [
    "def evaluate_AG(individuo):\n",
    "    func = toolbox.compile(expr=individuo)\n",
    "    h = 1e-3\n",
    "    error_pde = 0.0\n",
    "    n = 0\n",
    "\n",
    "    for x in xs:\n",
    "        for t in ts:\n",
    "            try:\n",
    "                u = func(x, t)\n",
    "                du_dt = (func(x, t+h) - func(x, t-h)) / (2*h)\n",
    "                d2u_dx2 = (func(x+h, t) - 2*u + func(x-h, t)) / (h**2)\n",
    "                residuo = du_dt - d2u_dx2\n",
    "                error_pde += residuo**2\n",
    "                n += 1\n",
    "            except (OverflowError, ValueError):\n",
    "                return (1e6,)\n",
    "\n",
    "    if n == 0: return (1e6,)\n",
    "\n",
    "    mse_pde = error_pde / n\n",
    "\n",
    "    # --- errores físicos principales ---\n",
    "    mse_pde = error_pde / n\n",
    "    u_init_error = np.mean([(func(x,0) - 0.2*math.sin(3*math.pi*x))**2 for x in xs])\n",
    "    border_penalty = sum(abs(func(0,t)) + abs(func(1,t)) for t in ts)\n",
    "\n",
    "    # --- amplitud: para que no se vuelva plano ---\n",
    "    amp = np.mean([abs(func(x,0)) for x in xs])\n",
    "    amp_penalty = 1e-4/(amp + 1e-6)   # favorece amplitud no-cero\n",
    "\n",
    "    # --- complejidad, funciones no tan largas ---\n",
    "    size_penalty = len(individuo) * 1e-3\n",
    "\n",
    "    # --- estructura / forma ---\n",
    "    expr_str = str(individuo)\n",
    "    penalty_logx  = 1.0 if \"safe_log(x)\" in expr_str else 0.0\n",
    "    penalty_no_exp = 0.5 if \"safe_neg_exp\" not in expr_str else 0.0\n",
    "\n",
    "    # --- signo y decaimiento suave ---\n",
    "    # media espacial en varios tiempos => debe ser positiva, monótona no-creciente y no desaparecer \"demasiado\" rápido\n",
    "    times_chk = [0.0, 0.05, 0.1, 0.2, 0.3]\n",
    "    A = []\n",
    "    for tt in times_chk:\n",
    "        A.append(np.mean([func(x, tt) for x in xs]))\n",
    "    A = np.array(A)\n",
    "\n",
    "    sign_penalty = 0.1 if A.mean() < 0 else 0.0\n",
    "    mono_penalty = 0.0\n",
    "    for i in range(len(A)-1):\n",
    "        if A[i+1] > A[i] + 1e-6:   # no debe aumentar con t\n",
    "            mono_penalty += 0.05\n",
    "\n",
    "    # evita que se “aplane” de golpe: exige que no caiga más rápido que exp(-c_min t)\n",
    "    c_min = 1.5                        # decaimiento mínimo (suave). Ajustable.\n",
    "    too_fast = (abs(A[-1]) < abs(A[0]) * math.exp(-c_min * times_chk[-1]))\n",
    "    speed_penalty = 0.1 if too_fast else 0.0\n",
    "    \n",
    "    # Penalizar funciones que no cambian con el tiempo\n",
    "    t0, t1 = 0.0, 0.2\n",
    "    u_t0 = np.array([func(x, t0) for x in xs])\n",
    "    u_t1 = np.array([func(x, t1) for x in xs])\n",
    "    temporal_diff = np.mean(np.abs(u_t1 - u_t0))\n",
    "    time_penalty = 0.5 if temporal_diff < 1e-3 else 0\n",
    "\n",
    "    # Penalizar si u(x,t) no decae con el tiempo\n",
    "    decay_penalty = 0\n",
    "    for x in xs:\n",
    "        u_vals = [func(x, t) for t in ts]\n",
    "        if any(u_vals[i+1] > u_vals[i] + 1e-3 for i in range(len(u_vals)-1)):\n",
    "            decay_penalty += 0.2\n",
    "\n",
    "\n",
    "    # --- mezcla de pesos (ajústalos si quieres) ---\n",
    "    fitness = (\n",
    "        1.5 * mse_pde +\n",
    "        5.0 * u_init_error +\n",
    "        5.0 * border_penalty +\n",
    "        0.9 * amp_penalty +\n",
    "        5.0 * size_penalty +\n",
    "        1.0 * penalty_logx +\n",
    "        0.5 * penalty_no_exp +\n",
    "        1.0 * sign_penalty +\n",
    "        1.0 * mono_penalty +\n",
    "        0.9 * speed_penalty +\n",
    "        1.7 * time_penalty +\n",
    "        0.8 * decay_penalty\n",
    "    )\n",
    "\n",
    "\n",
    "    return (fitness,)"
   ]
  },
  {
   "cell_type": "code",
   "execution_count": 79,
   "id": "7d9049e0",
   "metadata": {},
   "outputs": [],
   "source": [
    "toolbox.register(\"evaluate\", evaluate_AG) # Evaluador de individuos en la población\n",
    "toolbox.register(\"mate\", gp.cxOnePoint)\n",
    "toolbox.register(\"expr_mut\", gp.genFull, min_=1, max_=3)\n",
    "toolbox.register(\"mutate\", gp.mutUniform, expr=toolbox.expr_mut, pset=pset)\n",
    "toolbox.register(\"select\", tools.selTournament, tournsize=3)\n",
    "\n",
    "toolbox.decorate(\"mate\", gp.staticLimit(key=operator.attrgetter(\"height\"), max_value=14))\n",
    "toolbox.decorate(\"mutate\", gp.staticLimit(key=operator.attrgetter(\"height\"), max_value=14))\n",
    "\n",
    "poblacion = toolbox.population(n=300)\n",
    "hof = tools.HallOfFame(5)  # guardamos los 5 mejores individuos\n"
   ]
  },
  {
   "cell_type": "code",
   "execution_count": 94,
   "id": "c2be852e",
   "metadata": {},
   "outputs": [],
   "source": [
    "stats = tools.Statistics(lambda ind: ind.fitness.values)\n",
    "#stats.register(\"avg\", np.mean)\n",
    "#stats.register(\"std\", np.std)\n",
    "stats.register(\"min\", np.min)\n",
    "stats.register(\"max\", np.max)\n",
    "\n",
    "generaciones = 300\n",
    "p_cruza = 0.4\n",
    "p_muta = 0.6"
   ]
  },
  {
   "cell_type": "code",
   "execution_count": 81,
   "id": "db5b4536",
   "metadata": {},
   "outputs": [
    {
     "name": "stdout",
     "output_type": "stream",
     "text": [
      "Gen 0: {'min': 0.8464517732975038, 'max': 3.5307789918463624e+28}\n",
      "Gen 100: {'min': 0.27872900745656976, 'max': 8.826947506388251e+21}\n",
      "Gen 200: {'min': 0.2755593375480719, 'max': 8.826947506388251e+21}\n"
     ]
    }
   ],
   "source": [
    "for gen in range(generaciones):\n",
    "    # Evaluamos la población\n",
    "    invalid_ind = [ind for ind in poblacion if not ind.fitness.valid]\n",
    "    fitnesses = map(toolbox.evaluate, invalid_ind)\n",
    "    for ind, fit in zip(invalid_ind, fitnesses): # Asignar fitness\n",
    "        ind.fitness.values = fit\n",
    "\n",
    "    # Guardar los mejores (elitismo)\n",
    "    hof.update(poblacion)\n",
    "    elites = tools.selBest(poblacion, k=15)  \n",
    "    offspring = tools.selTournament(poblacion, len(poblacion) - len(elites), tournsize=3)\n",
    "\n",
    "    # Reproducción (cruce + mutación)\n",
    "    offspring = algorithms.varAnd(offspring, toolbox, cxpb=p_cruza, mutpb=p_muta)\n",
    "\n",
    "    # Evaluamos la descendencia\n",
    "    invalid_ind = [ind for ind in offspring if not ind.fitness.valid]\n",
    "    fitnesses = map(toolbox.evaluate, invalid_ind)\n",
    "    for ind, fit in zip(invalid_ind, fitnesses):\n",
    "        ind.fitness.values = fit\n",
    "\n",
    "    # Nueva población = élites + descendencia\n",
    "    poblacion[:] = elites + offspring\n",
    "\n",
    "    record = stats.compile(poblacion)\n",
    "    if gen % 100 == 0:\n",
    "        print(f\"Gen {gen}: {record}\")\n"
   ]
  },
  {
   "cell_type": "code",
   "execution_count": 82,
   "id": "ceebedb8",
   "metadata": {},
   "outputs": [
    {
     "name": "stdout",
     "output_type": "stream",
     "text": [
      "Mejores individuos:\n",
      "safe_neg_exp(safe_exp(safe_exp(safe_cos(safe_div(-0.0018361575483893944, t)))))\n",
      "Fitness: 0.2755593375480719\n",
      "u(0, 0.1) = 0.0000\n",
      "u(0.5, 0.1) = 0.0000\n",
      "u(1, 0.1) = 0.0000\n",
      "Longitud del mejor individuo: 7\n"
     ]
    }
   ],
   "source": [
    "####### Resultados finales\n",
    "best = hof[0]\n",
    "f_best = toolbox.compile(expr=best) ########Agregamos fbest, Compila el árbol en una función Python ejecutable   \n",
    "\n",
    "print(\"Mejores individuos:\")\n",
    "fun_best = toolbox.compile(expr=best)\n",
    "print(best)\n",
    "print(\"Fitness:\", best.fitness.values[0])\n",
    "print(f\"u(0, 0.1) = {fun_best(0, 0.1):.4f}\")\n",
    "print(f\"u(0.5, 0.1) = {fun_best(0.5, 0.1):.4f}\")\n",
    "print(f\"u(1, 0.1) = {fun_best(1, 0.1):.4f}\")\n",
    "print(\"Longitud del mejor individuo:\", len(best))"
   ]
  },
  {
   "cell_type": "code",
   "execution_count": 83,
   "id": "af2a59d7",
   "metadata": {},
   "outputs": [
    {
     "name": "stdout",
     "output_type": "stream",
     "text": [
      "u(0.5, t) = 0.0038289686261127787\n"
     ]
    }
   ],
   "source": [
    "print(\"u(0.5, t) =\", fun_best(0.5, 0.0))"
   ]
  },
  {
   "cell_type": "code",
   "execution_count": 98,
   "id": "119c06ed",
   "metadata": {},
   "outputs": [
    {
     "data": {
      "image/png": "[encoded data removed]",
      "text/plain": [
       "<Figure size 800x500 with 1 Axes>"
      ]
     },
     "metadata": {},
     "output_type": "display_data"
    },
    {
     "name": "stdout",
     "output_type": "stream",
     "text": [
      "\n",
      "Mejor individuo (árbol GP):\n",
      "safe_neg_exp(safe_exp(safe_exp(safe_cos(safe_div(-0.0018361575483893944, t)))))\n"
     ]
    }
   ],
   "source": [
    "# =========================\n",
    "# BLOQUE DE GRÁFICAS TIPO \"PARTE 7\"\n",
    "# (pegar después de terminar la evolución)\n",
    "# =========================\n",
    "\n",
    "import numpy as np\n",
    "import matplotlib.pyplot as plt\n",
    "\n",
    "# 1) Asegurar que tenemos el mejor individuo y su función compilada\n",
    "try:\n",
    "    best\n",
    "except NameError:\n",
    "    # Si no existe, tomarlo del Hall of Fame (asumiendo que lo usaste)\n",
    "    best = hof[0]\n",
    "\n",
    "# Compilar si hace falta\n",
    "try:\n",
    "    f_best\n",
    "except NameError:\n",
    "    f_best = toolbox.compile(expr=best)\n",
    "\n",
    "# Resolver nombre de la función, por si en tu código se llama distinto\n",
    "try:\n",
    "    f = f_best\n",
    "except NameError:\n",
    "    try:\n",
    "        f = fun_best\n",
    "    except NameError:\n",
    "        f = fun_best  # última opción si lo llamaste así\n",
    "\n",
    "# 2) Función segura para evaluar u(x,t)\n",
    "def safe_u(x, t):\n",
    "    try:\n",
    "        v = f(x, t)\n",
    "        if not np.isfinite(v):\n",
    "            return np.nan\n",
    "        return float(np.clip(v, -1e3, 1e3))  # recorte suave para gráficas\n",
    "    except Exception:\n",
    "        return np.nan\n",
    "\n",
    "# 3) (Opcional) Solución analítica para comparar\n",
    "def u_analitica(x, t):\n",
    "    return 0.2 * np.sin(3*np.pi*x) * np.exp(-(3*np.pi)**2 * t)\n",
    "\n",
    "COMPARAR_ANALITICA = True  # pon False si quieres solo la curva GP\n",
    "\n",
    "# 4) Parámetros de la gráfica\n",
    "xs = np.linspace(0, 1, 300)\n",
    "t_list = [0.00, 0.05, 0.10, 0.20, 0.30]\n",
    "\n",
    "plt.figure(figsize=(8,5))\n",
    "for tt in t_list:\n",
    "    u_gp = [safe_u(x, tt) for x in xs]\n",
    "    plt.plot(xs, u_gp, '-', lw=2, label=(f\"t={tt:0.2f} (GP)\" if COMPARAR_ANALITICA else f\"t={tt:0.2f}\"))\n",
    "    if COMPARAR_ANALITICA:\n",
    "        u_an = [u_analitica(x, tt) for x in xs]\n",
    "        plt.plot(xs, u_an, '--', lw=2, alpha=0.75, label=f\"t={tt:0.2f} (Analítica)\")\n",
    "\n",
    "plt.title(\"Solución simbólica simplificada (GP)\")\n",
    "plt.xlabel(\"x\")\n",
    "plt.ylabel(\"u(x,t)\")\n",
    "plt.grid(True, alpha=0.3)\n",
    "plt.legend(ncol=1, frameon=True)\n",
    "plt.tight_layout()\n",
    "plt.show()\n",
    "\n",
    "# (Opcional) imprimir expresión del mejor individuo\n",
    "print(\"\\nMejor individuo (árbol GP):\")\n",
    "print(best)\n"
   ]
  },
  {
   "cell_type": "code",
   "execution_count": 91,
   "id": "960e3c52",
   "metadata": {},
   "outputs": [
    {
     "name": "stdout",
     "output_type": "stream",
     "text": [
      "t=0 in ts? -> True   min(ts)= 0.0\n"
     ]
    }
   ],
   "source": [
    "print(\"t=0 in ts? ->\", 0.0 in ts, \"  min(ts)=\", ts.min())"
   ]
  },
  {
   "cell_type": "code",
   "execution_count": 92,
   "id": "4404f173",
   "metadata": {},
   "outputs": [
    {
     "name": "stdout",
     "output_type": "stream",
     "text": [
      "MSE condición inicial (debug): 0.019297130878476405\n"
     ]
    }
   ],
   "source": [
    "xs_dbg = np.linspace(0,1,50)\n",
    "mse_ci_dbg = np.mean([(f_best(x,0) - 0.2*np.sin(3*np.pi*x))**2 for x in xs_dbg])\n",
    "print(\"MSE condición inicial (debug):\", mse_ci_dbg)"
   ]
  }
 ],
 "metadata": {
  "kernelspec": {
   "display_name": "Python 3",
   "language": "python",
   "name": "python3"
  },
  "language_info": {
   "codemirror_mode": {
    "name": "ipython",
    "version": 3
   },
   "file_extension": ".py",
   "mimetype": "text/x-python",
   "name": "python",
   "nbconvert_exporter": "python",
   "pygments_lexer": "ipython3",
   "version": "3.12.1"
  }
 },
 "nbformat": 4,
 "nbformat_minor": 5
}
