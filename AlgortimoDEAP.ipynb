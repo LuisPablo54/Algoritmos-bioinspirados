{
 "cells": [
  {
   "cell_type": "code",
   "execution_count": 1,
   "id": "c1c64bad",
   "metadata": {},
   "outputs": [],
   "source": [
    "import operator\n",
    "import random\n",
    "import math\n",
    "import numpy as np\n",
    "from deap import algorithms, tools, base, creator, gp\n",
    "\n",
    "# algorithms = Nos permet de definir los algoritmos evolutivos\n",
    "# tools = Proporciona herramientas para la manipulacion de individuos y poblaciones\n",
    "# base = Proporciona las clases base para definir los componentes del algoritmo genetico\n",
    "# creator = Permite crear nuevas clases para individuos y poblaciones\n",
    "# gp = Proporciona herramientas para la programacion genetica"
   ]
  },
  {
   "cell_type": "code",
   "execution_count": 2,
   "id": "707de678",
   "metadata": {},
   "outputs": [],
   "source": [
    "import pandas as pd"
   ]
  },
  {
   "cell_type": "code",
   "execution_count": 12,
   "id": "0af29910",
   "metadata": {},
   "outputs": [],
   "source": [
    "data = pd.read_csv(\"data.csv\")\n",
    "X = data[\"x\"].values\n",
    "Y = data[\"y\"].values"
   ]
  },
  {
   "cell_type": "code",
   "execution_count": 4,
   "id": "e712707f",
   "metadata": {},
   "outputs": [],
   "source": [
    "def fun_objetivo(x):\n",
    "    return x**3 + x**2 + x + 1"
   ]
  },
  {
   "cell_type": "code",
   "execution_count": 5,
   "id": "34d35d27",
   "metadata": {},
   "outputs": [
    {
     "name": "stderr",
     "output_type": "stream",
     "text": [
      "d:\\anaconda3\\envs\\ds_venv\\Lib\\site-packages\\deap\\gp.py:257: RuntimeWarning: Ephemeral rand101 function cannot be pickled because its generating function is a lambda function. Use functools.partial instead.\n",
      "  warnings.warn(\"Ephemeral {name} function cannot be \"\n"
     ]
    }
   ],
   "source": [
    "# Creamos el cconjunto de primitivas\n",
    "pset = gp.PrimitiveSet(\"MAIN\", 1)  # 1 es el numero de argumentos de la funcion\n",
    "pset.addPrimitive(operator.add, 2)\n",
    "pset.addPrimitive(operator.sub, 2)\n",
    "pset.addPrimitive(operator.mul, 2)\n",
    "pset.addPrimitive(operator.neg, 1)\n",
    "pset.addPrimitive(math.sin, 1)\n",
    "pset.addPrimitive(math.cos, 1)\n",
    "pset.addEphemeralConstant(\"rand101\", lambda: random.uniform(-1,1))\n",
    "\n",
    "pset.renameArguments(ARG0=\"x\")\n",
    "\n",
    "creator.create(\"FitnessMin\", base.Fitness, weights = (-1.0,))\n",
    "creator.create(\"Individuo\", gp.PrimitiveTree, fitness = creator.FitnessMin)"
   ]
  },
  {
   "cell_type": "code",
   "execution_count": 6,
   "id": "c94bf2ea",
   "metadata": {},
   "outputs": [],
   "source": [
    "toolbox = base.Toolbox()\n",
    "\n",
    "toolbox.register(\"expr\", gp.genHalfAndHalf, pset = pset, min_=1, max_=2)\n",
    "toolbox.register(\"individuo\", tools.initIterate, creator.Individuo, toolbox.expr)\n",
    "toolbox.register(\"poblacion\", tools.initRepeat, list, toolbox.individuo)\n",
    "\n",
    "toolbox.register(\"compile\", gp.compile, pset = pset)"
   ]
  },
  {
   "cell_type": "code",
   "execution_count": 13,
   "id": "03c5ee61",
   "metadata": {},
   "outputs": [
    {
     "name": "stderr",
     "output_type": "stream",
     "text": [
      "d:\\anaconda3\\envs\\ds_venv\\Lib\\site-packages\\deap\\creator.py:185: RuntimeWarning: A class named 'FitnessMin' has already been created and it will be overwritten. Consider deleting previous creation of that class or rename it.\n",
      "  warnings.warn(\"A class named '{0}' has already been created and it \"\n",
      "d:\\anaconda3\\envs\\ds_venv\\Lib\\site-packages\\deap\\creator.py:185: RuntimeWarning: A class named 'Individual' has already been created and it will be overwritten. Consider deleting previous creation of that class or rename it.\n",
      "  warnings.warn(\"A class named '{0}' has already been created and it \"\n"
     ]
    }
   ],
   "source": [
    "data_points = np.linspace(-1, 1, 100)\n",
    "\n",
    "x = datosCSV[\"x\"]\n",
    "y = datosCSV[\"y\"]\n",
    "\n",
    "valores_objetivo = []\n",
    "for x in datosCSV[\"x\"]:\n",
    "    y = fun_objetivo(x)\n",
    "    valores_objetivo.append(y)\n",
    "\n",
    "def evalSymbReg(individual, points):\n",
    "    func = toolbox.compile(expr=individual)\n",
    "    # error cuadrático medio\n",
    "    sqerrors = ((func(x) - y)**2 for x, y in points)\n",
    "    return math.fsum(sqerrors) / len(points),\n",
    "\n",
    "creator.create(\"FitnessMin\", base.Fitness, weights=(-1.0,))\n",
    "creator.create(\"Individual\", gp.PrimitiveTree, fitness=creator.FitnessMin)\n",
    "\n",
    "toolbox = base.Toolbox()\n",
    "toolbox.register(\"expr\", gp.genHalfAndHalf, pset=pset, min_=1, max_=2)\n",
    "toolbox.register(\"individual\", tools.initIterate, creator.Individual, toolbox.expr)\n",
    "toolbox.register(\"population\", tools.initRepeat, list, toolbox.individual)\n",
    "toolbox.register(\"compile\", gp.compile, pset=pset)\n",
    "toolbox.register(\"evaluate\", evalSymbReg, points=list(zip(X, Y)))\n",
    "toolbox.register(\"select\", tools.selTournament, tournsize=3)\n",
    "toolbox.register(\"mate\", gp.cxOnePoint)\n",
    "toolbox.register(\"mutate\", gp.mutUniform, expr=toolbox.expr, pset=pset)\n"
   ]
  },
  {
   "cell_type": "code",
   "execution_count": null,
   "id": "747ea037",
   "metadata": {},
   "outputs": [],
   "source": []
  },
  {
   "cell_type": "code",
   "execution_count": null,
   "id": "0f353f0d",
   "metadata": {},
   "outputs": [
    {
     "name": "stdout",
     "output_type": "stream",
     "text": [
      "gen\tnevals\tavg    \tstd    \tmin    \tmax    \n",
      "0  \t100   \t3241.51\t58.4999\t3087.26\t3444.14\n",
      "1  \t77    \t3223.05\t49.6883\t3040.89\t3309.54\n",
      "2  \t81    \t3215.74\t74.9869\t2987.34\t3444.14\n",
      "3  \t81    \t3198.24\t62.9989\t3080.31\t3463.6 \n",
      "4  \t77    \t3185.34\t76.2494\t3040.89\t3509.08\n",
      "5  \t80    \t3172.39\t67.8066\t2953.3 \t3373.54\n",
      "6  \t79    \t3182.62\t88.1459\t2925.35\t3444.14\n",
      "7  \t74    \t3148.04\t79.8464\t2925.35\t3324.62\n",
      "8  \t78    \t3130.13\t114.74 \t2798.6 \t3429.77\n",
      "9  \t75    \t3074.8 \t128.878\t2658.92\t3341.97\n",
      "10 \t78    \t3060.55\t179.119\t2634.64\t3525.48\n",
      "11 \t71    \t3001.7 \t251.1  \t1874.35\t3821.96\n",
      "12 \t71    \t2907.57\t244.563\t1874.35\t3433.27\n",
      "13 \t80    \t2861.35\t323.501\t1537.49\t3762.08\n",
      "14 \t77    \t2782.54\t441.567\t1235.85\t3903.07\n",
      "15 \t73    \t2634.38\t511.064\t1233.47\t3866.64\n",
      "16 \t72    \t2505.17\t592.643\t1066.92\t4138.29\n",
      "17 \t68    \t2353.02\t876.909\t753.579\t7736.79\n",
      "18 \t82    \t2224.59\t1897.84\t753.579\t20188.3\n",
      "19 \t73    \t1873.25\t701.865\t658.291\t4729.84\n",
      "20 \t73    \t1640.63\t733.068\t449.001\t4987.07\n",
      "21 \t81    \t1585.56\t1180.69\t177.411\t9947.48\n",
      "22 \t80    \t5062.16\t33958.4\t128.092\t342110 \n",
      "23 \t79    \t122831 \t1.17437e+06\t71.8524\t1.18025e+07\n",
      "24 \t67    \t3914.65\t20888      \t71.9709\t188851     \n",
      "25 \t73    \t158857 \t1.16402e+06\t58.6169\t1.05283e+07\n",
      "26 \t71    \t1474.76\t3451.47    \t25.814 \t22959.8    \n",
      "27 \t79    \t1599.21\t2928.02    \t24.8917\t19265.2    \n",
      "28 \t79    \t765.39 \t969.514    \t24.8917\t5599.4     \n",
      "29 \t75    \t1210.59\t2781.34    \t24.8917\t20184.1    \n",
      "30 \t68    \t1604.52\t4903.19    \t24.8917\t32455.4    \n",
      "31 \t68    \t1657.87\t8531.53    \t24.8917\t80083.9    \n",
      "32 \t70    \t788.535\t1693.3     \t24.8917\t14274.3    \n",
      "33 \t85    \t716.488\t1082.93    \t27.2612\t6162.95    \n",
      "34 \t76    \t2940.37\t10459      \t34.3634\t67617.5    \n",
      "35 \t81    \t6501.97\t42358.7    \t34.3634\t416644     \n",
      "36 \t71    \t3610.08\t23073.8    \t31.9036\t225049     \n",
      "37 \t74    \t1740.42\t9011.92    \t20.1145\t89402.8    \n",
      "38 \t74    \t1004.64\t2245.05    \t20.5238\t14729.2    \n",
      "39 \t71    \t1055.43\t5935.74    \t16.6029\t59484.4    \n",
      "40 \t76    \t1064.36\t4305.24    \t16.6029\t41967      \n",
      "41 \t72    \t3570.55\t14010.5    \t14.6699\t93824.8    \n",
      "42 \t71    \t1943.55\t8488.29    \t14.6699\t70988.4    \n",
      "43 \t74    \t1498.28\t6197.48    \t12.4974\t59954.2    \n",
      "44 \t73    \t11120.9\t94510.3    \t15.3101\t949444     \n",
      "45 \t72    \t70049.9\t675969     \t14.6739\t6.79513e+06\n",
      "46 \t72    \t8151.05\t55796.6    \t13.1228\t535223     \n",
      "47 \t78    \t935.082\t3927.33    \t13.1228\t37447.9    \n",
      "48 \t63    \t535.925\t1011.99    \t11.0099\t5412.2     \n",
      "49 \t71    \t1629.77\t9989.01    \t10.9032\t99632.4    \n",
      "50 \t73    \t673.664\t2225.61    \t11.0099\t21156.2    \n",
      "51 \t78    \t737.13 \t3315.31    \t6.174  \t30633.1    \n",
      "52 \t77    \t2432.48\t13148.5    \t5.14076\t115964     \n",
      "53 \t70    \t226.8  \t488.987    \t5.14076\t3174.53    \n",
      "54 \t73    \t284.765\t751.065    \t4.45191\t4051.26    \n",
      "55 \t73    \t349.592\t758.711    \t4.45191\t3498.35    \n",
      "56 \t82    \t33756.4\t316685     \t4.55946\t3.18165e+06\n",
      "57 \t72    \t1261.12\t5435.96    \t4.11143\t49683.3    \n",
      "58 \t83    \t330.838\t662.893    \t4.55946\t3160.51    \n",
      "59 \t82    \t2129.57\t12855.2    \t4.56855\t127043     \n",
      "60 \t73    \t29067.2\t275149     \t3.99005\t2.76631e+06\n",
      "61 \t72    \t482.958\t1311.54    \t4.19766\t7651.69    \n",
      "62 \t78    \t4093.4 \t34187.1    \t2.59823\t343066     \n",
      "63 \t72    \t380.019\t747.497    \t3.19667\t3795.21    \n",
      "64 \t71    \t280.556\t617.091    \t3.17882\t3200.83    \n",
      "65 \t70    \t370.932\t929        \t3.17882\t5565.8     \n",
      "66 \t69    \t30671.7\t300987     \t3.17882\t3.02543e+06\n",
      "67 \t77    \t421.075\t2146.63    \t3.07408\t20736.3    \n",
      "68 \t80    \t430.246\t873.992    \t2.99917\t3289.77    \n",
      "69 \t80    \t668.923\t4082.84    \t3.04407\t40921.1    \n",
      "70 \t62    \t2853.96\t26834.5    \t2.7194 \t269804     \n",
      "71 \t79    \t609.328\t2686.86    \t2.7194 \t26110.1    \n",
      "72 \t76    \t119681 \t1.18543e+06\t2.46027\t1.19145e+07\n",
      "73 \t86    \t229.973\t520.195    \t2.40522\t3164.83    \n",
      "74 \t70    \t201.707\t547.624    \t2.02062\t3234.32    \n",
      "75 \t68    \t527.141\t1850.49    \t2.02062\t14842.6    \n",
      "76 \t67    \t2233.06\t17821.9    \t2.02062\t178887     \n",
      "77 \t75    \t2127.46\t14972.8    \t1.68517\t144451     \n",
      "78 \t73    \t275.94 \t703.98     \t1.63525\t3262.85    \n",
      "79 \t71    \t159.223\t524.293    \t1.25257\t3267.45    \n",
      "80 \t78    \t310.437\t1184.56    \t1.39317\t10057.6    \n",
      "81 \t75    \t446.106\t1234.59    \t1.39317\t7941.16    \n",
      "82 \t76    \t388.858\t1926.8     \t1.39317\t18443.8    \n",
      "83 \t78    \t12666.5\t99803.5    \t1.51392\t969131     \n",
      "84 \t81    \t623.226\t3662.02    \t1.59958\t36148.4    \n",
      "85 \t73    \t185.818\t609.813    \t1.59958\t4043.17    \n",
      "86 \t75    \t102.945\t389.062    \t1.23941\t3314.46    \n",
      "87 \t71    \t102.194\t440.623    \t1.23941\t3130.63    \n",
      "88 \t73    \t210.034\t698.86     \t1.18881\t3991.8     \n",
      "89 \t80    \t203.835\t650.061    \t1.11648\t3296.14    \n",
      "90 \t77    \t8121.18\t77990.3    \t1.05727\t783918     \n",
      "91 \t79    \t2754.35\t21523.5    \t1.05727\t215213     \n",
      "92 \t69    \t1211.48\t6389.91    \t1.05727\t55494.4    \n",
      "93 \t74    \t1831.28\t11615.9    \t1.09506\t105250     \n",
      "94 \t71    \t123.355\t496.196    \t1.06194\t3204.41    \n",
      "95 \t82    \t181.079\t713.184    \t1.06194\t6029.8     \n",
      "96 \t73    \t699.377\t3493.39    \t1.05989\t27197.6    \n",
      "97 \t76    \t10033.3\t97945.6    \t1.05989\t984556     \n",
      "98 \t72    \t247.386\t1025.77    \t1.03399\t6617.84    \n",
      "99 \t72    \t330.591\t1102.47    \t1.06896\t7814.05    \n",
      "100\t73    \t50.6075\t214.59     \t1.07272\t1674.21    \n",
      "Mejor individuo:  add(mul(neg(-0.8707753889541945), add(x, 0.8282592441467183)), sub(mul(0.45266154699966954, x), sub(mul(sub(add(sub(mul(sub(neg(add(mul(x, add(mul(x, sin(0.9132095605588795)), sub(-0.6907298431625526, 0.18208385161853613))), sub(add(sub(mul(sub(sin(-0.20563110015841168), 0.9066681151119393), neg(-0.7113484653041573)), add(neg(sin(x)), sub(add(sub(add(sub(x, 0.5311345182934246), x), neg(add(sub(sub(0.06351921554500484, x), add(cos(cos(0.7869536164127646)), neg(add(cos(sin(x)), mul(add(x, -0.25043478514802486), neg(add(mul(x, add(neg(neg(-0.18346712063356985)), add(x, -0.8295240423596011))), add(sub(neg(add(cos(-0.21074632600483434), -0.8996400048479314)), add(0.615475911274971, x)), mul(-0.10472405159317355, sin(-0.26648008057803296)))))))))), mul(-0.7477926811963858, add(neg(add(cos(sub(mul(sub(add(sub(mul(sub(neg(add(mul(x, add(mul(x, sin(0.9132095605588795)), sub(-0.6907298431625526, 0.18208385161853613))), sub(add(sub(mul(sub(add(sin(x), sub(-0.14323904603098425, x)), 0.9066681151119393), neg(-0.7113484653041573)), add(neg(sin(x)), sub(add(sub(add(-0.5668231069153151, x), neg(add(sub(sub(neg(sin(0.0746004983851547)), x), add(cos(cos(0.7869536164127646)), neg(add(cos(sin(x)), mul(add(x, -0.25043478514802486), neg(add(mul(x, add(neg(neg(-0.18346712063356985)), add(x, -0.8295240423596011))), x))))))), mul(-0.7477926811963858, add(neg(add(cos(-0.21074632600483434), -0.8996400048479314)), sin(add(sub(sin(neg(x)), add(cos(cos(0.7869536164127646)), neg(0.7766002413992485))), mul(-0.7477926811963858, add(neg(cos(sub(-0.6907298431625526, 0.18208385161853613))), sin(sin(neg(x)))))))))))), -0.7113484653041573), x))), sin(0.4190697478426586)), 0.9066681151119393))), -0.8295240423596011), neg(neg(cos(x)))), add(neg(sin(x)), sub(add(sub(neg(x), neg(add(sub(sin(neg(x)), add(cos(cos(-0.21074632600483434)), neg(add(sub(sub(mul(mul(sub(sin(cos(x)), 0.9066681151119393), neg(-0.7113484653041573)), sub(x, 0.6918476966379676)), neg(-0.8092631325787925)), add(x, -0.8092631325787925)), mul(add(x, -0.25043478514802486), neg(add(sub(add(0.2525102232130798, -0.9257978183109894), cos(x)), mul(neg(0.7766002413992485), sub(x, 0.9708324056988291))))))))), mul(-0.7477926811963858, add(neg(cos(sub(-0.6907298431625526, 0.18208385161853613))), sin(-0.4271995107108606)))))), -0.7113484653041573), x))), x), cos(sin(-0.25973212044523253))), sub(add(x, x), mul(-0.4184805949885406, x))), mul(-0.5816176791418599, -0.05629489038597524))), -0.8996400048479314)), sin(add(sub(sin(neg(x)), add(add(-0.8295240423596011, neg(0.8055425480673173)), neg(0.7766002413992485))), mul(-0.7477926811963858, add(neg(cos(sub(-0.6907298431625526, 0.18208385161853613))), sin(-0.4271995107108606)))))))))), -0.7113484653041573), x))), sin(0.4190697478426586)), 0.9066681151119393))), -0.8295240423596011), neg(neg(cos(x)))), add(neg(sin(x)), sub(add(sub(neg(x), neg(add(sub(sin(neg(x)), add(cos(cos(0.7869536164127646)), neg(add(sub(sub(mul(mul(sub(sin(cos(x)), 0.9066681151119393), neg(-0.7113484653041573)), sub(x, 0.6918476966379676)), neg(-0.8092631325787925)), add(x, -0.5443072660045305)), mul(add(x, -0.25043478514802486), neg(add(mul(x, add(neg(neg(-0.18346712063356985)), add(x, -0.8295240423596011))), mul(neg(0.7766002413992485), sub(x, 0.9708324056988291))))))))), mul(-0.7477926811963858, add(neg(cos(sub(-0.6907298431625526, 0.18208385161853613))), sin(-0.4271995107108606)))))), -0.7113484653041573), x))), x), cos(sin(-0.25973212044523253))), sub(add(x, x), mul(-0.3966282801546255, x))), mul(-0.5816176791418599, -0.05629489038597524))))\n",
      "\n"
     ]
    }
   ],
   "source": [
    "#*****************Algoritmo Evolutivo*****************\n",
    "# Creamos una poblacion inicial\n",
    "Poblacion = toolbox.population(n=100)\n",
    "hof = tools.HallOfFame(1)\n",
    "\n",
    "stats = tools.Statistics(lambda ind: ind.fitness.values)\n",
    "stats.register(\"avg\", np.mean)\n",
    "stats.register(\"std\", np.std)\n",
    "stats.register(\"min\", np.min)\n",
    "stats.register(\"max\", np.max)\n",
    "\n",
    "algorithms.eaSimple(Poblacion, toolbox, 0.5, 0.5, 100, stats=stats, halloffame=hof, verbose=True)\n",
    "\n",
    "print(\"Mejor individuo: \", hof[0])\n",
    "print()\n",
    "\n",
    "import sympy\n",
    "x = sympy.symbols('x')\n",
    "\n",
    "remplacements = {\n",
    "    'add': lambda a, b: a + b,\n",
    "    'sub': lambda a, b: a - b,\n",
    "    'mul': lambda a, b: a * b,\n",
    "    'neg': lambda a: -a,\n",
    "    'sin': sympy.sin,\n",
    "    'cos': sympy.cos\n",
    "}\n",
    "\n",
    "expr = str(hof[0])\n",
    "expr_sympy = sympy.sympify(expr, locals=remplacements)\n",
    "\n",
    "print(\"\\nExpresion Simpy: \", sympy.simplify(expr_sympy))\n",
    "\n",
    "best_func = toolbox.compile(expr=hof[0])    \n",
    "print()\n",
    "\n",
    "for x, y in zip(data_points, valores_objetivo):\n",
    "    print(\"x=%.2f, y=%.2f, f(x)=%.2f\" % (x, y, best_func(x)))"
   ]
  },
  {
   "cell_type": "code",
   "execution_count": 15,
   "id": "b382d034",
   "metadata": {},
   "outputs": [
    {
     "data": {
      "image/png": "[encoded data removed]",
      "text/plain": [
       "<Figure size 640x480 with 1 Axes>"
      ]
     },
     "metadata": {},
     "output_type": "display_data"
    }
   ],
   "source": [
    "# Graficar\n",
    "import matplotlib.pyplot as plt\n",
    "# Grafica\n",
    "plt.scatter(X, Y, label='Datos Originales', color='red')\n",
    "plt.plot(data_points, [fun_objetivo(x) for x in data_points], label='Función Objetivo', color='blue')\n",
    "plt.plot(data_points, [best_func(x) for x in data_points], label='Mejor Aproximación', color='green')\n",
    "plt.legend()\n",
    "plt.show()"
   ]
  },
  {
   "cell_type": "code",
   "execution_count": null,
   "id": "900e8759",
   "metadata": {},
   "outputs": [],
   "source": []
  }
 ],
 "metadata": {
  "kernelspec": {
   "display_name": "ds_venv",
   "language": "python",
   "name": "python3"
  },
  "language_info": {
   "codemirror_mode": {
    "name": "ipython",
    "version": 3
   },
   "file_extension": ".py",
   "mimetype": "text/x-python",
   "name": "python",
   "nbconvert_exporter": "python",
   "pygments_lexer": "ipython3",
   "version": "3.12.0"
  }
 },
 "nbformat": 4,
 "nbformat_minor": 5
}
