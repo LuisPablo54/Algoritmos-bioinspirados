{
 "cells": [
  {
   "cell_type": "markdown",
   "id": "a9d02a44",
   "metadata": {},
   "source": [
    "16/10/2025\n",
    "\n",
    "# Evolución diferencial o diferenciada\n",
    "Es un algoritmo evolutivo para optimización continua propuesta en los 90s\n",
    "\n",
    "Población de vectores en espacio de busqueda\n",
    "\n",
    "Operadores simples: mutación vectorial, cruce (recombinación) y selección.\n",
    "\n",
    "Tres vecotores alatorios para que su suma encuentre los maximos o minimos globales \n",
    "\n",
    "Muy usado para obtimizar procesos."
   ]
  },
  {
   "cell_type": "markdown",
   "id": "870add2f",
   "metadata": {},
   "source": [
    "En la evolución diferncial una solución potencial al problema de optimización es llamdad vector: $\n",
    "$$\n",
    "x_i,g = (x_1,i,g ,..., X_D,i,g) \n",
    "$$"
   ]
  },
  {
   "cell_type": "markdown",
   "id": "ae295e0f",
   "metadata": {},
   "source": [
    "Difencia entre vecores osn realizadas durante los opereadores variaciaón\n",
    "\n",
    "El proceso evolutivo de la evolución diferncial estándar consiste de cuanto pasos princiaples:\n",
    "\n",
    "1. Inicialización de vectores \n",
    "2. Mtación de vectores\n",
    "3. Cruza o recombinación\n",
    "4. Selección"
   ]
  },
  {
   "cell_type": "markdown",
   "id": "e7a78c10",
   "metadata": {},
   "source": [
    "Para la creación de la población inicial, es en vector\n",
    "\n",
    "### Mutación:\n",
    "\n",
    "Se utiliza un vector mutante el cual se calcula como la diferencia escalada entre dos vectores $(r_1, r_2)$ de tres vectores resultantes\n",
    "\n",
    "### Cruza:\n",
    "\n",
    "Se realiza entre el vector mutante $v_ig$ y el target $x_ig$ oara generar el hijo, durante el proceso cada ... \n",
    "\n",
    "\n",
    "DETERMINAR MEDIANTE LA ED EL MÍNIMO GLOBAL  DE LA FUNCIÓN EASON EN DOS VARIABLES\n",
    "$$\n",
    "f(x_1, x_2)  -\\cos(x_1)\\cos(x_2) e^{-((x_1\\pi)^2 + (x_2 - \\pi)^2)}\n",
    "\n",
    "$$"
   ]
  },
  {
   "cell_type": "code",
   "execution_count": 1,
   "id": "32f5bbd4",
   "metadata": {},
   "outputs": [],
   "source": [
    "## DETERMINAR MEDIANTE LA ED EL MÍNIMO GLOBAL  DE LA FUNCIÓN EASON EN DOS VARIABLES\n",
    "import numpy as np\n",
    "import plotly.graph_objects as go"
   ]
  },
  {
   "cell_type": "code",
   "execution_count": 2,
   "id": "b8db5f77",
   "metadata": {},
   "outputs": [],
   "source": [
    "import numpy as np\n",
    "import matplotlib.pyplot as plt\n",
    "\n",
    "x = np.linspace(-5, 5, 100)\n",
    "y = np.linspace(-5, 5, 100)\n",
    "X, Y = np.meshgrid(x, y)\n",
    "Z = -np.cos(X) * np.cos(Y) * np.exp(-((X - np.pi) ** 2 + (Y - np.pi) ** 2))\n",
    "\n",
    "\n",
    "\n"
   ]
  },
  {
   "cell_type": "code",
   "execution_count": 3,
   "id": "f0ccb173",
   "metadata": {},
   "outputs": [],
   "source": [
    "import math\n",
    "import random"
   ]
  },
  {
   "cell_type": "code",
   "execution_count": 4,
   "id": "0f592c8f",
   "metadata": {},
   "outputs": [],
   "source": [
    "# Función objetivo\n",
    "def fun_objetivo(x, y):\n",
    "    f = -math.cos(x) * math.cos(y) * math.exp(-((x - math.pi) ** 2 + (y - math.pi) ** 2))\n",
    "    return f"
   ]
  },
  {
   "cell_type": "code",
   "execution_count": 5,
   "id": "ec78d2c4",
   "metadata": {},
   "outputs": [],
   "source": [
    "# Función para generar una población inicial\n",
    "def start_population(tam_population, Imin, Imax):\n",
    "    population = []\n",
    "    for i in range(tam_population):\n",
    "        individuo = []\n",
    "    for j in range(2):\n",
    "        individuo.append(random.uniform(Imin, Imax))\n",
    "    population.append(individuo)\n",
    "\n",
    "    return population\n"
   ]
  },
  {
   "cell_type": "code",
   "execution_count": 6,
   "id": "ac928f98",
   "metadata": {},
   "outputs": [],
   "source": [
    "def evaluar(population):\n",
    "    fitness = []\n",
    "    n = len(population)\n",
    "    for i in range(n):\n",
    "        x1 = population[i][0]\n",
    "        x2 = population[i][1]\n",
    "        f = fun_objetivo(x1, x2)\n",
    "        fitness.append(f)\n",
    "\n",
    "    return fitness"
   ]
  },
  {
   "cell_type": "code",
   "execution_count": 11,
   "id": "97cc9d70",
   "metadata": {},
   "outputs": [],
   "source": [
    "import random\n",
    "\n",
    "def mutation_Evol_diff(population, F, i):\n",
    "    n = len(population)\n",
    "    if n < 4:\n",
    "        raise ValueError(\"La población debe tener al menos 4 individuos.\")\n",
    "    \n",
    "    r1, r2, r3 = random.sample([idx for idx in range(n) if idx != i], 3)\n",
    "    \n",
    "    vector_mutante = []\n",
    "    for j in range(len(population[0])):\n",
    "        vector_mutante.append(population[r1][j] + F * (population[r2][j] - population[r3][j]))\n",
    "    \n",
    "    return vector_mutante\n",
    "\n",
    "    "
   ]
  },
  {
   "cell_type": "code",
   "execution_count": 8,
   "id": "b49df4f1",
   "metadata": {},
   "outputs": [],
   "source": [
    "# Función para los vectores de prueba\n",
    "def cross_Ev_diff(individuo, vector_mutante, CR):\n",
    "    n = len(individuo)\n",
    "    j_rand = random.randint(0, n-1)\n",
    "    vector_pueba = []\n",
    "\n",
    "    for j in range(n):\n",
    "        if (random.random() < CR or j == j_rand):\n",
    "            vector_pueba.append(vector_mutante)\n",
    "        else:\n",
    "            vector_pueba.append(individuo[j])\n",
    "\n",
    "    return vector_pueba\n",
    "\n"
   ]
  },
  {
   "cell_type": "code",
   "execution_count": 9,
   "id": "f76daab6",
   "metadata": {},
   "outputs": [],
   "source": [
    "def seleccion(individuo, vector_prueba):\n",
    "    f1 = fun_objetivo(individuo[0], individuo[1])\n",
    "    f2 = fun_objetivo(vector_prueba[0], vector_prueba[1])\n",
    "\n",
    "    if (f2 < f1):\n",
    "        return vector_prueba\n",
    "    else:\n",
    "        return individuo\n"
   ]
  },
  {
   "cell_type": "code",
   "execution_count": 12,
   "id": "b661fc9c",
   "metadata": {},
   "outputs": [
    {
     "ename": "ValueError",
     "evalue": "La población debe tener al menos 4 individuos.",
     "output_type": "error",
     "traceback": [
      "\u001b[31m---------------------------------------------------------------------------\u001b[39m",
      "\u001b[31mValueError\u001b[39m                                Traceback (most recent call last)",
      "\u001b[36mCell\u001b[39m\u001b[36m \u001b[39m\u001b[32mIn[12]\u001b[39m\u001b[32m, line 15\u001b[39m\n\u001b[32m     13\u001b[39m nueva_poblacion = []\n\u001b[32m     14\u001b[39m \u001b[38;5;28;01mfor\u001b[39;00m i \u001b[38;5;129;01min\u001b[39;00m \u001b[38;5;28mrange\u001b[39m(tam_pob):\n\u001b[32m---> \u001b[39m\u001b[32m15\u001b[39m     MUT = \u001b[43mmutation_Evol_diff\u001b[49m\u001b[43m(\u001b[49m\u001b[43mP\u001b[49m\u001b[43m,\u001b[49m\u001b[43m \u001b[49m\u001b[43mF\u001b[49m\u001b[43m,\u001b[49m\u001b[43m \u001b[49m\u001b[43mi\u001b[49m\u001b[43m)\u001b[49m\n\u001b[32m     16\u001b[39m     VEC_PRUEBA = cross_Ev_diff(P[i], MUT, CR)\n\u001b[32m     17\u001b[39m     IND_NUEVO = seleccion(P[i], VEC_PRUEBA)\n",
      "\u001b[36mCell\u001b[39m\u001b[36m \u001b[39m\u001b[32mIn[11]\u001b[39m\u001b[32m, line 6\u001b[39m, in \u001b[36mmutation_Evol_diff\u001b[39m\u001b[34m(population, F, i)\u001b[39m\n\u001b[32m      4\u001b[39m n = \u001b[38;5;28mlen\u001b[39m(population)\n\u001b[32m      5\u001b[39m \u001b[38;5;28;01mif\u001b[39;00m n < \u001b[32m4\u001b[39m:\n\u001b[32m----> \u001b[39m\u001b[32m6\u001b[39m     \u001b[38;5;28;01mraise\u001b[39;00m \u001b[38;5;167;01mValueError\u001b[39;00m(\u001b[33m\"\u001b[39m\u001b[33mLa población debe tener al menos 4 individuos.\u001b[39m\u001b[33m\"\u001b[39m)\n\u001b[32m      8\u001b[39m r1, r2, r3 = random.sample([idx \u001b[38;5;28;01mfor\u001b[39;00m idx \u001b[38;5;129;01min\u001b[39;00m \u001b[38;5;28mrange\u001b[39m(n) \u001b[38;5;28;01mif\u001b[39;00m idx != i], \u001b[32m3\u001b[39m)\n\u001b[32m     10\u001b[39m vector_mutante = []\n",
      "\u001b[31mValueError\u001b[39m: La población debe tener al menos 4 individuos."
     ]
    }
   ],
   "source": [
    "#__________________________\n",
    "tam_pob = 100\n",
    "Imin = -5.0\n",
    "Imax = 5.0\n",
    "F = 0.8\n",
    "CR = 0.9\n",
    "generaciones = 100\n",
    "\n",
    "\n",
    "P = start_population(tam_pob, Imin, Imax)\n",
    "\n",
    "for g in range(generaciones):\n",
    "    nueva_poblacion = []\n",
    "    for i in range(tam_pob):\n",
    "        MUT = mutation_Evol_diff(P, F, i)\n",
    "        VEC_PRUEBA = cross_Ev_diff(P[i], MUT, CR)\n",
    "        IND_NUEVO = seleccion(P[i], VEC_PRUEBA)\n",
    "        nueva_poblacion.append(IND_NUEVO)\n",
    "\n",
    "    P = nueva_poblacion\n",
    "\n",
    "\n",
    "# Resultados\n",
    "fitness = evaluar(P)\n",
    "mejor_indice = fitness.index(min(fitness))\n",
    "mejor_solucion = P[mejor_indice]\n",
    "mejor_valor = fitness[mejor_solucion]\n",
    "\n",
    "print(f\"\\nMejor Solución: {mejor_solucion}\")\n",
    "print(f\"\\nValor de la función: {mejor_valor}\")\n"
   ]
  },
  {
   "cell_type": "code",
   "execution_count": null,
   "id": "e2d5c38a",
   "metadata": {},
   "outputs": [],
   "source": []
  }
 ],
 "metadata": {
  "kernelspec": {
   "display_name": "ds_venv",
   "language": "python",
   "name": "python3"
  },
  "language_info": {
   "codemirror_mode": {
    "name": "ipython",
    "version": 3
   },
   "file_extension": ".py",
   "mimetype": "text/x-python",
   "name": "python",
   "nbconvert_exporter": "python",
   "pygments_lexer": "ipython3",
   "version": "3.12.0"
  }
 },
 "nbformat": 4,
 "nbformat_minor": 5
}
