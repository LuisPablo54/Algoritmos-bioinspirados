{
 "cells": [
  {
   "cell_type": "code",
   "execution_count": 1,
   "id": "4d1dd951",
   "metadata": {},
   "outputs": [],
   "source": [
    "import random\n",
    "import numpy as np\n",
    "import math"
   ]
  },
  {
   "cell_type": "code",
   "execution_count": 3,
   "id": "60572ff5",
   "metadata": {},
   "outputs": [],
   "source": [
    "#------------Funciones------------\n",
    "# Modelo que ajustara los datos\n",
    "def modelo(x, a, b, c):\n",
    "    return a * np.exp(b * x) + c"
   ]
  },
  {
   "cell_type": "code",
   "execution_count": null,
   "id": "7792051d",
   "metadata": {},
   "outputs": [],
   "source": [
    "# Función que minimiza el error cuadrático medio\n",
    "def error_cuadratico_medio(pa, b, c, n):\n",
    "    return 1/n * sum((\n",
    "    "
   ]
  }
 ],
 "metadata": {
  "kernelspec": {
   "display_name": "ds_venv",
   "language": "python",
   "name": "python3"
  },
  "language_info": {
   "codemirror_mode": {
    "name": "ipython",
    "version": 3
   },
   "file_extension": ".py",
   "mimetype": "text/x-python",
   "name": "python",
   "nbconvert_exporter": "python",
   "pygments_lexer": "ipython3",
   "version": "3.12.0"
  }
 },
 "nbformat": 4,
 "nbformat_minor": 5
}
